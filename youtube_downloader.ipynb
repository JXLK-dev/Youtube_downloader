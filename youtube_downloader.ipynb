{
 "cells": [
  {
   "cell_type": "code",
   "execution_count": 5,
   "metadata": {},
   "outputs": [],
   "source": [
    "import yt_dlp\n",
    "import fileinput\n",
    "def run(video_url:str):\n",
    "    video_info = yt_dlp.YoutubeDL().extract_info(\n",
    "        url = video_url,download=False\n",
    "    )\n",
    "    filename = f\"{video_info['title']}.mp3\"\n",
    "    options={\n",
    "        'format':'bestaudio/best',\n",
    "        'keepvideo':False,\n",
    "        'outtmpl':filename,\n",
    "    }\n",
    "\n",
    "    with yt_dlp.YoutubeDL(options) as ydl:\n",
    "        ydl.download([video_info['webpage_url']])\n",
    "\n",
    "    print(\"Download complete... {}\".format(filename))"
   ]
  },
  {
   "cell_type": "code",
   "execution_count": 2,
   "metadata": {},
   "outputs": [],
   "source": [
    "def extract_text_file():\n",
    "    file = fileinput.input('list_of_songs.txt')\n",
    "    listofsongs = []\n",
    "    for line in file:\n",
    "        listofsongs.append(line)\n",
    "    return listofsongs\n"
   ]
  },
  {
   "cell_type": "code",
   "execution_count": 3,
   "metadata": {},
   "outputs": [],
   "source": [
    "def download_all_script():\n",
    "    listofsongs = extract_text_file()\n",
    "    for song in listofsongs:\n",
    "        run(song)"
   ]
  },
  {
   "cell_type": "code",
   "execution_count": 4,
   "metadata": {},
   "outputs": [
    {
     "name": "stdout",
     "output_type": "stream",
     "text": [
      "[youtube] dvQJIgjlR3I: Downloading webpage\n",
      "[youtube] dvQJIgjlR3I: Downloading webpage\n",
      "[download] Destination: MoonDeity - NEON BLADE.mp3\n",
      "[download] 100% of 4.20MiB in 01:12                  \n",
      "Download complete... MoonDeity - NEON BLADE.mp3\n"
     ]
    }
   ],
   "source": [
    "\n",
    "if __name__=='__main__':\n",
    "    download_all_script()"
   ]
  },
  {
   "cell_type": "code",
   "execution_count": null,
   "metadata": {},
   "outputs": [],
   "source": []
  }
 ],
 "metadata": {
  "kernelspec": {
   "display_name": "Python 3.10.5 64-bit",
   "language": "python",
   "name": "python3"
  },
  "language_info": {
   "codemirror_mode": {
    "name": "ipython",
    "version": 3
   },
   "file_extension": ".py",
   "mimetype": "text/x-python",
   "name": "python",
   "nbconvert_exporter": "python",
   "pygments_lexer": "ipython3",
   "version": "3.10.5"
  },
  "orig_nbformat": 4,
  "vscode": {
   "interpreter": {
    "hash": "7b2419b70957e8bf671a29b3323e88f21e66ed13cf789e91e7b5ec75ba43242c"
   }
  }
 },
 "nbformat": 4,
 "nbformat_minor": 2
}
